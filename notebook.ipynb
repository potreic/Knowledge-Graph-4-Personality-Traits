{
 "cells": [
  {
   "cell_type": "markdown",
   "metadata": {
    "id": "uY4FB1FfadRo"
   },
   "source": [
    "## Knowledge Graph Utilizing LLM Agent"
   ]
  },
  {
   "cell_type": "markdown",
   "metadata": {
    "id": "rdEaqWkpRTH3"
   },
   "source": [
    "### Setup and Configuration"
   ]
  },
  {
   "cell_type": "code",
   "execution_count": null,
   "metadata": {
    "colab": {
     "base_uri": "https://localhost:8080/"
    },
    "executionInfo": {
     "elapsed": 11627,
     "status": "ok",
     "timestamp": 1761830328569,
     "user": {
      "displayName": "nibroos haryanto",
      "userId": "16812247201123840883"
     },
     "user_tz": -420
    },
    "id": "zrtcQsL2RAZi",
    "outputId": "869d7488-fcbf-4cbc-cffe-d329c1cf0f04"
   },
   "outputs": [
    {
     "name": "stdout",
     "output_type": "stream",
     "text": [
      "\u001b[?25l   \u001b[90m━━━━━━━━━━━━━━━━━━━━━━━━━━━━━━━━━━━━━━━━\u001b[0m \u001b[32m0.0/756.0 kB\u001b[0m \u001b[31m?\u001b[0m eta \u001b[36m-:--:--\u001b[0m\r\u001b[2K   \u001b[91m━━━━━━━━━━━━━━━━━━━━━━━\u001b[0m\u001b[91m╸\u001b[0m\u001b[90m━━━━━━━━━━━━━━━━\u001b[0m \u001b[32m450.6/756.0 kB\u001b[0m \u001b[31m13.5 MB/s\u001b[0m eta \u001b[36m0:00:01\u001b[0m\r\u001b[2K   \u001b[90m━━━━━━━━━━━━━━━━━━━━━━━━━━━━━━━━━━━━━━━━\u001b[0m \u001b[32m756.0/756.0 kB\u001b[0m \u001b[31m13.9 MB/s\u001b[0m eta \u001b[36m0:00:00\u001b[0m\n",
      "\u001b[?25h\u001b[?25l   \u001b[90m━━━━━━━━━━━━━━━━━━━━━━━━━━━━━━━━━━━━━━━━\u001b[0m \u001b[32m0.0/76.0 kB\u001b[0m \u001b[31m?\u001b[0m eta \u001b[36m-:--:--\u001b[0m\r\u001b[2K   \u001b[90m━━━━━━━━━━━━━━━━━━━━━━━━━━━━━━━━━━━━━━━━\u001b[0m \u001b[32m76.0/76.0 kB\u001b[0m \u001b[31m6.4 MB/s\u001b[0m eta \u001b[36m0:00:00\u001b[0m\n",
      "\u001b[?25h\u001b[?25l   \u001b[90m━━━━━━━━━━━━━━━━━━━━━━━━━━━━━━━━━━━━━━━━\u001b[0m \u001b[32m0.0/1.6 MB\u001b[0m \u001b[31m?\u001b[0m eta \u001b[36m-:--:--\u001b[0m\r\u001b[2K   \u001b[90m━━━━━━━━━━━━━━━━━━━━━━━━━━━━━━━━━━━━━━━━\u001b[0m \u001b[32m1.6/1.6 MB\u001b[0m \u001b[31m57.3 MB/s\u001b[0m eta \u001b[36m0:00:00\u001b[0m\n",
      "\u001b[?25h"
     ]
    }
   ],
   "source": [
    "# This cell will install all the necessary Python packages.\n",
    "!pip install langchain langchain-deepseek networkx pyvis pydantic -q"
   ]
  },
  {
   "cell_type": "markdown",
   "metadata": {
    "id": "1z0Vug1TR7a2"
   },
   "source": [
    "### Imports and API Key Access"
   ]
  },
  {
   "cell_type": "code",
   "execution_count": null,
   "metadata": {
    "colab": {
     "base_uri": "https://localhost:8080/"
    },
    "executionInfo": {
     "elapsed": 675,
     "status": "ok",
     "timestamp": 1761830768293,
     "user": {
      "displayName": "nibroos haryanto",
      "userId": "16812247201123840883"
     },
     "user_tz": -420
    },
    "id": "UGTXf28XSB3z",
    "outputId": "69f0cb34-4d1a-4126-e5dc-2eb6324ee864"
   },
   "outputs": [
    {
     "name": "stdout",
     "output_type": "stream",
     "text": [
      "Libraries imported successfully.\n",
      "✅ DeepSeek API Key loaded.\n"
     ]
    }
   ],
   "source": [
    "import os\n",
    "from google.colab import userdata\n",
    "from pydantic import BaseModel, Field\n",
    "from typing import List\n",
    "\n",
    "# LangChain Imports\n",
    "from langchain_openai import ChatOpenAI\n",
    "from langchain.prompts import ChatPromptTemplate\n",
    "from langchain.output_parsers import PydanticOutputParser\n",
    "\n",
    "print(\"Libraries imported successfully.\")\n",
    "\n",
    "# Access the API key from Colab Secrets\n",
    "DEEPSEEK_API_KEY = userdata.get('DEEPSEEK_API_KEY')\n",
    "\n",
    "if not DEEPSEEK_API_KEY:\n",
    "    print(\"⚠️ DEEPSEEK_API_KEY not found. Please follow Step 2 to add it to Colab Secrets.\")\n",
    "else:\n",
    "    print(\"✅ DeepSeek API Key loaded.\")"
   ]
  },
  {
   "cell_type": "markdown",
   "metadata": {
    "id": "B4KH7J_UTDOB"
   },
   "source": [
    "### Define Your Output Structure (Pydantic)"
   ]
  },
  {
   "cell_type": "code",
   "execution_count": null,
   "metadata": {
    "id": "dQw9YDJ7TEWv"
   },
   "outputs": [],
   "source": [
    "from pydantic import BaseModel, Field\n",
    "from typing import List, Literal\n",
    "\n",
    "# Define the five traits as a type for the LLM to use\n",
    "TraitType = Literal[\"Openness\", \"Conscientiousness\", \"Extraversion\", \"Agreeableness\", \"Neuroticism\"]\n",
    "\n",
    "class PersonalityTrait(BaseModel):\n",
    "    \"\"\"Represents an extracted personality trait for a specific person.\"\"\"\n",
    "    person: str = Field(description=\"The name of the person being described.\")\n",
    "    trait: TraitType = Field(description=\"The Big Five (OCEAN) personality trait identified.\")\n",
    "    evidence: str = Field(description=\"The exact quote or text evidence from the input that supports this trait.\")\n",
    "    score: float = Field(description=\"A score from -1.0 (low) to 1.0 (high) for this trait, inferred from the text.\", ge=-1.0, le=1.0)\n",
    "\n",
    "class PersonalityAnalysis(BaseModel):\n",
    "    \"\"\"A structured list of all personality traits extracted from the text.\"\"\"\n",
    "    traits: List[PersonalityTrait]"
   ]
  },
  {
   "cell_type": "markdown",
   "metadata": {
    "id": "9BIo7c4ZTIiV"
   },
   "source": [
    "### Set Up the LangChain Components"
   ]
  },
  {
   "cell_type": "code",
   "execution_count": null,
   "metadata": {
    "colab": {
     "base_uri": "https://localhost:8080/"
    },
    "executionInfo": {
     "elapsed": 16,
     "status": "ok",
     "timestamp": 1761833657654,
     "user": {
      "displayName": "nibroos haryanto",
      "userId": "16812247201123840883"
     },
     "user_tz": -420
    },
    "id": "dSdD6mDyTSkD",
    "outputId": "63faf974-f2f5-46df-a088-010753a5aa95"
   },
   "outputs": [
    {
     "name": "stdout",
     "output_type": "stream",
     "text": [
      "✅ Personality extraction chain is ready!\n"
     ]
    }
   ],
   "source": [
    "# 1. Set up the new Output Parser\n",
    "personality_parser = PydanticOutputParser(pydantic_object=PersonalityAnalysis)\n",
    "\n",
    "# 2. Create the new Prompt Template\n",
    "personality_template_string = \"\"\"\n",
    "You are an expert occupational psychologist. Your job is to read a text and infer the Big Five (OCEAN)\n",
    "personality traits of the people mentioned.\n",
    "\n",
    "For each person, identify any text that provides evidence for one of the five traits.\n",
    "- Openness: imaginative, curious, likes variety\n",
    "- Conscientiousness: organized, dependable, disciplined\n",
    "- Extraversion: sociable, energetic, assertive\n",
    "- Agreeableness: trusting, kind, cooperative\n",
    "- Neuroticism: anxious, moody, emotionally unstable\n",
    "\n",
    "Follow the output format instructions precisely. Only extract traits when clear evidence is present.\n",
    "\n",
    "{format_instructions}\n",
    "\n",
    "Here is the text you need to analyze:\n",
    "---\n",
    "{text}\n",
    "---\n",
    "\"\"\"\n",
    "\n",
    "personality_prompt = ChatPromptTemplate.from_template(\n",
    "    personality_template_string,\n",
    "    partial_variables={\"format_instructions\": personality_parser.get_format_instructions()}\n",
    ")\n",
    "\n",
    "# 3. Create the new chain (the LLM object 'llm' is the same)\n",
    "personality_chain = personality_prompt | llm | personality_parser\n",
    "\n",
    "print(\"✅ Personality extraction chain is ready!\")"
   ]
  },
  {
   "cell_type": "markdown",
   "metadata": {
    "id": "tfpAY7f3e_Je"
   },
   "source": [
    "### Evaluation for Knowledge Graph"
   ]
  },
  {
   "cell_type": "code",
   "execution_count": null,
   "metadata": {
    "id": "hpOLu37me-wr"
   },
   "outputs": [],
   "source": [
    "import numpy as np\n",
    "\n",
    "def evaluate_kg(ground_truth_triples, generated_triples):\n",
    "    \"\"\"\n",
    "    Calculates Precision, Recall, and F1-Score for a generated KG\n",
    "    against a ground truth KG.\n",
    "\n",
    "    Args:\n",
    "    - ground_truth_triples (list of tuples): The \"correct\" triples.\n",
    "    - generated_triples (list of tuples): The \"predicted\" triples from the LLM.\n",
    "\n",
    "    Returns:\n",
    "    - dict: A dictionary containing precision, recall, and f1_score.\n",
    "    \"\"\"\n",
    "\n",
    "    # 1. Convert lists of triples to sets for easy comparison\n",
    "    # A set only contains unique elements and is very fast for lookups.\n",
    "    gt_set = set(ground_truth_triples)\n",
    "    gen_set = set(generated_triples)\n",
    "\n",
    "    # 2. Calculate True Positives (TP), False Positives (FP), and False Negatives (FN)\n",
    "\n",
    "    # True Positives: Triples that are in BOTH the generated set AND the ground truth set.\n",
    "    tp_set = gen_set.intersection(gt_set)\n",
    "    tp = len(tp_set)\n",
    "\n",
    "    # False Positives: Triples that are in the generated set but NOT in the ground truth.\n",
    "    # (These are \"hallucinated\" or incorrect extractions)\n",
    "    fp_set = gen_set.difference(gt_set)\n",
    "    fp = len(fp_set)\n",
    "\n",
    "    # False Negatives: Triples that are in the ground truth but NOT in the generated set.\n",
    "    # (These are the facts your LLM \"missed\")\n",
    "    fn_set = gt_set.difference(gen_set)\n",
    "    fn = len(fn_set)\n",
    "\n",
    "    # 3. Calculate Metrics\n",
    "\n",
    "    # Precision: Of all the triples we generated, how many were correct?\n",
    "    # (Measures \"trustworthiness\")\n",
    "    if (tp + fp) == 0:\n",
    "        precision = 0.0  # Avoid division by zero if no triples were generated\n",
    "    else:\n",
    "        precision = tp / (tp + fp)\n",
    "\n",
    "    # Recall: Of all the possible correct triples, how many did we find?\n",
    "    # (Measures \"completeness\")\n",
    "    if (tp + fn) == 0:\n",
    "        recall = 0.0  # Avoid division by zero if ground truth is empty\n",
    "    else:\n",
    "        recall = tp / (tp + fn)\n",
    "\n",
    "    # F1-Score: The balanced average of Precision and Recall.\n",
    "    if (precision + recall) == 0:\n",
    "        f1_score = 0.0\n",
    "    else:\n",
    "        f1_score = 2 * (precision * recall) / (precision + recall)\n",
    "\n",
    "\n",
    "    # --- Print a detailed report ---\n",
    "    print(\"--- KG Evaluation Report ---\")\n",
    "    print(f\"Total Ground Truth Triples: {len(gt_set)}\")\n",
    "    print(f\"Total Generated Triples:    {len(gen_set)}\")\n",
    "    print(\"-\" * 30)\n",
    "    print(f\"True Positives (TP):  {tp}\")\n",
    "    print(f\"False Positives (FP): {fp}\")\n",
    "    print(f\"False Negatives (FN): {fn}\")\n",
    "    print(\"-\" * 30)\n",
    "\n",
    "    print(f\"\\n✅ True Positives (Correctly found):\")\n",
    "    for triple in tp_set:\n",
    "        print(f\"   {triple}\")\n",
    "\n",
    "    print(f\"\\n❌ False Positives (Incorrectly generated):\")\n",
    "    for triple in fp_set:\n",
    "        print(f\"   {triple}\")\n",
    "\n",
    "    print(f\"\\n⚠️ False Negatives (Missed):\")\n",
    "    for triple in fn_set:\n",
    "        print(f\"   {triple}\")\n",
    "\n",
    "    print(\"\\n\" + \"=\" * 30)\n",
    "    print(f\"Precision: {precision:.4f}\")\n",
    "    print(f\"Recall:    {recall:.4f}\")\n",
    "    print(f\"F1-Score:  {f1_score:.4f}\")\n",
    "    print(\"=\" * 30)\n",
    "\n",
    "    return {\n",
    "        \"precision\": precision,\n",
    "        \"recall\": recall,\n",
    "        \"f1_score\": f1_score\n",
    "    }"
   ]
  },
  {
   "cell_type": "markdown",
   "metadata": {
    "id": "qDNBWhLOT3Cn"
   },
   "source": [
    "### Run the Extraction"
   ]
  },
  {
   "cell_type": "code",
   "execution_count": null,
   "metadata": {
    "colab": {
     "base_uri": "https://localhost:8080/"
    },
    "executionInfo": {
     "elapsed": 10402,
     "status": "ok",
     "timestamp": 1761833700974,
     "user": {
      "displayName": "nibroos haryanto",
      "userId": "16812247201123840883"
     },
     "user_tz": -420
    },
    "id": "phJ016S8T4Vh",
    "outputId": "6c91bf95-26e3-4183-dcea-fb39cba864cc"
   },
   "outputs": [
    {
     "name": "stdout",
     "output_type": "stream",
     "text": [
      "Ground Truth loaded with 5 expected facts.\n",
      "Processing text with LLM...\n",
      "✅ LLM response received, found 5 traits.\n",
      "✅ Converted LLM response to simple triples for evaluation.\n",
      "\n",
      "Running evaluation...\n",
      "--- KG Evaluation Report ---\n",
      "Total Ground Truth Triples: 5\n",
      "Total Generated Triples:    5\n",
      "------------------------------\n",
      "True Positives (TP):  5\n",
      "False Positives (FP): 0\n",
      "False Negatives (FN): 0\n",
      "------------------------------\n",
      "\n",
      "✅ True Positives (Correctly found):\n",
      "   ('Alex', 'has_trait', 'Extraversion')\n",
      "   ('Sarah', 'has_trait', 'Extraversion')\n",
      "   ('Alex', 'has_trait', 'Conscientiousness')\n",
      "   ('Sarah', 'has_trait', 'Conscientiousness')\n",
      "   ('Sarah', 'has_trait', 'Agreeableness')\n",
      "\n",
      "❌ False Positives (Incorrectly generated):\n",
      "\n",
      "⚠️ False Negatives (Missed):\n",
      "\n",
      "==============================\n",
      "Precision: 1.0000\n",
      "Recall:    1.0000\n",
      "F1-Score:  1.0000\n",
      "==============================\n"
     ]
    }
   ],
   "source": [
    "# --- 1. Define Our \"Ground Truth\" (The Answer Key) ---\n",
    "# Based on a human reading the text, these are the traits we expect to find.\n",
    "# We are simplifying this to (Person, has_trait, Trait)\n",
    "ground_truth_triples = [\n",
    "    (\"Alex\", \"has_trait\", \"Extraversion\"),       # Evidence: \"prefers to work alone\" (low)\n",
    "    (\"Alex\", \"has_trait\", \"Conscientiousness\"),   # Evidence: \"meticulously organized\" (high)\n",
    "    (\"Sarah\", \"has_trait\", \"Extraversion\"),      # Evidence: \"energetic, loves brainstorming\" (high)\n",
    "    (\"Sarah\", \"has_trait\", \"Conscientiousness\"), # Evidence: \"desk is a mess\" (low)\n",
    "    (\"Sarah\", \"has_trait\", \"Agreeableness\")      # Evidence: \"wonderfully kind\" (high)\n",
    "]\n",
    "\n",
    "print(f\"Ground Truth loaded with {len(ground_truth_triples)} expected facts.\")\n",
    "\n",
    "\n",
    "# --- 2. Run the LLM to get the 'response' object ---\n",
    "# (This is the logic from Cell 16)\n",
    "personality_text = \"\"\"\n",
    "Alex is a brilliant programmer, but he's not a people-person. He prefers to work alone\n",
    "and finds large meetings draining. His colleague, Sarah, is the complete opposite.\n",
    "She organizes all the team events, is incredibly energetic, and loves brainstorming\n",
    "in a group. Alex, on the other hand, is meticulously organized. His code is always\n",
    "perfectly documented. Sarah's desk is a bit of a mess, and she sometimes forgets\n",
    "to push her code, but she is also known for being wonderfully kind and always\n",
    "the first to help a teammate who is stuck.\n",
    "\"\"\"\n",
    "\n",
    "print(f\"Processing text with LLM...\")\n",
    "try:\n",
    "    response = personality_chain.invoke({\"text\": personality_text})\n",
    "    print(f\"✅ LLM response received, found {len(response.traits)} traits.\")\n",
    "\n",
    "    # --- 3. The \"Bridge\": Convert LLM response to evaluation format ---\n",
    "    # This is the step you were asking about.\n",
    "    # We create the 'generated_triples' list from the LLM response.\n",
    "    generated_triples_for_eval = []\n",
    "    for trait_item in response.traits:\n",
    "        # Create the simple (S, P, O) tuple\n",
    "        simple_triple = (trait_item.person, \"has_trait\", trait_item.trait)\n",
    "        generated_triples_for_eval.append(simple_triple)\n",
    "\n",
    "    print(f\"✅ Converted LLM response to simple triples for evaluation.\")\n",
    "\n",
    "\n",
    "    # --- 4. Run the Evaluation ---\n",
    "    # Now we compare the ground truth to our *actual* generated data\n",
    "    print(\"\\nRunning evaluation...\")\n",
    "    metrics = evaluate_kg(ground_truth_triples, generated_triples_for_eval)\n",
    "\n",
    "except Exception as e:\n",
    "    print(f\"\\n❌ An error occurred during the LLM chain invocation:\")\n",
    "    print(e)"
   ]
  },
  {
   "cell_type": "markdown",
   "metadata": {
    "id": "Q8FpuQYKUGKQ"
   },
   "source": [
    "### Build the networkx Graph"
   ]
  },
  {
   "cell_type": "code",
   "execution_count": null,
   "metadata": {
    "colab": {
     "base_uri": "https://localhost:8080/"
    },
    "executionInfo": {
     "elapsed": 23,
     "status": "ok",
     "timestamp": 1761833705577,
     "user": {
      "displayName": "nibroos haryanto",
      "userId": "16812247201123840883"
     },
     "user_tz": -420
    },
    "id": "qMPSkWI1UHy5",
    "outputId": "2bc57e70-bb06-49f3-bc95-fe01db38e7fc"
   },
   "outputs": [
    {
     "name": "stdout",
     "output_type": "stream",
     "text": [
      "Building graph from 'response.traits'...\n",
      "✅ Personality NetworkX graph built successfully.\n",
      "Nodes: 5\n",
      "Edges: 5\n"
     ]
    }
   ],
   "source": [
    "import networkx as nx\n",
    "\n",
    "# 1. Create a new directed graph\n",
    "G_personality = nx.DiGraph()\n",
    "\n",
    "print(\"Building graph from 'response.traits'...\")\n",
    "\n",
    "# 2. Iterate over our extracted traits (this is the FIX)\n",
    "for trait_item in response.traits:\n",
    "\n",
    "    # 3. Add the nodes with styling\n",
    "    #    We'll make People blue dots and Traits green squares\n",
    "    G_personality.add_node(\n",
    "        trait_item.person,\n",
    "        label=trait_item.person,\n",
    "        title=f\"Person: {trait_item.person}\",\n",
    "        shape=\"dot\",\n",
    "        color=\"#3498db\" # Blue\n",
    "    )\n",
    "    G_personality.add_node(\n",
    "        trait_item.trait,\n",
    "        label=trait_item.trait,\n",
    "        title=f\"Trait: {trait_item.trait}\",\n",
    "        shape=\"square\",\n",
    "        color=\"#2ecc71\" # Green\n",
    "    )\n",
    "\n",
    "    # 4. Add the edge, using the score as the label and evidence as the hover-over title\n",
    "    edge_label = f\"Score: {trait_item.score}\"\n",
    "    edge_title = f\"Evidence: {trait_item.evidence}\"\n",
    "\n",
    "    G_personality.add_edge(\n",
    "        trait_item.person,\n",
    "        trait_item.trait,\n",
    "        label=edge_label,\n",
    "        title=edge_title,\n",
    "        color=\"#95a5a6\" # Gray\n",
    "    )\n",
    "\n",
    "print(\"✅ Personality NetworkX graph built successfully.\")\n",
    "print(f\"Nodes: {G_personality.number_of_nodes()}\")\n",
    "print(f\"Edges: {G_personality.number_of_edges()}\")"
   ]
  },
  {
   "cell_type": "markdown",
   "metadata": {
    "id": "CertjdJ4ULhB"
   },
   "source": [
    "### Visualize with pyvis in Colab"
   ]
  },
  {
   "cell_type": "code",
   "execution_count": null,
   "metadata": {
    "colab": {
     "base_uri": "https://localhost:8080/",
     "height": 699
    },
    "executionInfo": {
     "elapsed": 46,
     "status": "ok",
     "timestamp": 1761833708825,
     "user": {
      "displayName": "nibroos haryanto",
      "userId": "16812247201123840883"
     },
     "user_tz": -420
    },
    "id": "V6DG2S6eUNHQ",
    "outputId": "87045b1d-8f60-4111-dbdb-587bf3f3cab0"
   },
   "outputs": [
    {
     "name": "stdout",
     "output_type": "stream",
     "text": [
      "✅ Interactive 'personality_graph.html' file generated.\n",
      "Displaying graph... (People are blue dots, traits are green squares)\n",
      "Hover over the edges to see the evidence!\n"
     ]
    },
    {
     "data": {
      "text/html": [
       "<html>\n",
       "    <head>\n",
       "        <meta charset=\"utf-8\">\n",
       "        \n",
       "            <script>function neighbourhoodHighlight(params) {\n",
       "  // console.log(\"in nieghbourhoodhighlight\");\n",
       "  allNodes = nodes.get({ returnType: \"Object\" });\n",
       "  // originalNodes = JSON.parse(JSON.stringify(allNodes));\n",
       "  // if something is selected:\n",
       "  if (params.nodes.length > 0) {\n",
       "    highlightActive = true;\n",
       "    var i, j;\n",
       "    var selectedNode = params.nodes[0];\n",
       "    var degrees = 2;\n",
       "\n",
       "    // mark all nodes as hard to read.\n",
       "    for (let nodeId in allNodes) {\n",
       "      // nodeColors[nodeId] = allNodes[nodeId].color;\n",
       "      allNodes[nodeId].color = \"rgba(200,200,200,0.5)\";\n",
       "      if (allNodes[nodeId].hiddenLabel === undefined) {\n",
       "        allNodes[nodeId].hiddenLabel = allNodes[nodeId].label;\n",
       "        allNodes[nodeId].label = undefined;\n",
       "      }\n",
       "    }\n",
       "    var connectedNodes = network.getConnectedNodes(selectedNode);\n",
       "    var allConnectedNodes = [];\n",
       "\n",
       "    // get the second degree nodes\n",
       "    for (i = 1; i < degrees; i++) {\n",
       "      for (j = 0; j < connectedNodes.length; j++) {\n",
       "        allConnectedNodes = allConnectedNodes.concat(\n",
       "          network.getConnectedNodes(connectedNodes[j])\n",
       "        );\n",
       "      }\n",
       "    }\n",
       "\n",
       "    // all second degree nodes get a different color and their label back\n",
       "    for (i = 0; i < allConnectedNodes.length; i++) {\n",
       "      // allNodes[allConnectedNodes[i]].color = \"pink\";\n",
       "      allNodes[allConnectedNodes[i]].color = \"rgba(150,150,150,0.75)\";\n",
       "      if (allNodes[allConnectedNodes[i]].hiddenLabel !== undefined) {\n",
       "        allNodes[allConnectedNodes[i]].label =\n",
       "          allNodes[allConnectedNodes[i]].hiddenLabel;\n",
       "        allNodes[allConnectedNodes[i]].hiddenLabel = undefined;\n",
       "      }\n",
       "    }\n",
       "\n",
       "    // all first degree nodes get their own color and their label back\n",
       "    for (i = 0; i < connectedNodes.length; i++) {\n",
       "      // allNodes[connectedNodes[i]].color = undefined;\n",
       "      allNodes[connectedNodes[i]].color = nodeColors[connectedNodes[i]];\n",
       "      if (allNodes[connectedNodes[i]].hiddenLabel !== undefined) {\n",
       "        allNodes[connectedNodes[i]].label =\n",
       "          allNodes[connectedNodes[i]].hiddenLabel;\n",
       "        allNodes[connectedNodes[i]].hiddenLabel = undefined;\n",
       "      }\n",
       "    }\n",
       "\n",
       "    // the main node gets its own color and its label back.\n",
       "    // allNodes[selectedNode].color = undefined;\n",
       "    allNodes[selectedNode].color = nodeColors[selectedNode];\n",
       "    if (allNodes[selectedNode].hiddenLabel !== undefined) {\n",
       "      allNodes[selectedNode].label = allNodes[selectedNode].hiddenLabel;\n",
       "      allNodes[selectedNode].hiddenLabel = undefined;\n",
       "    }\n",
       "  } else if (highlightActive === true) {\n",
       "    // console.log(\"highlightActive was true\");\n",
       "    // reset all nodes\n",
       "    for (let nodeId in allNodes) {\n",
       "      // allNodes[nodeId].color = \"purple\";\n",
       "      allNodes[nodeId].color = nodeColors[nodeId];\n",
       "      // delete allNodes[nodeId].color;\n",
       "      if (allNodes[nodeId].hiddenLabel !== undefined) {\n",
       "        allNodes[nodeId].label = allNodes[nodeId].hiddenLabel;\n",
       "        allNodes[nodeId].hiddenLabel = undefined;\n",
       "      }\n",
       "    }\n",
       "    highlightActive = false;\n",
       "  }\n",
       "\n",
       "  // transform the object into an array\n",
       "  var updateArray = [];\n",
       "  if (params.nodes.length > 0) {\n",
       "    for (let nodeId in allNodes) {\n",
       "      if (allNodes.hasOwnProperty(nodeId)) {\n",
       "        // console.log(allNodes[nodeId]);\n",
       "        updateArray.push(allNodes[nodeId]);\n",
       "      }\n",
       "    }\n",
       "    nodes.update(updateArray);\n",
       "  } else {\n",
       "    // console.log(\"Nothing was selected\");\n",
       "    for (let nodeId in allNodes) {\n",
       "      if (allNodes.hasOwnProperty(nodeId)) {\n",
       "        // console.log(allNodes[nodeId]);\n",
       "        // allNodes[nodeId].color = {};\n",
       "        updateArray.push(allNodes[nodeId]);\n",
       "      }\n",
       "    }\n",
       "    nodes.update(updateArray);\n",
       "  }\n",
       "}\n",
       "\n",
       "function filterHighlight(params) {\n",
       "  allNodes = nodes.get({ returnType: \"Object\" });\n",
       "  // if something is selected:\n",
       "  if (params.nodes.length > 0) {\n",
       "    filterActive = true;\n",
       "    let selectedNodes = params.nodes;\n",
       "\n",
       "    // hiding all nodes and saving the label\n",
       "    for (let nodeId in allNodes) {\n",
       "      allNodes[nodeId].hidden = true;\n",
       "      if (allNodes[nodeId].savedLabel === undefined) {\n",
       "        allNodes[nodeId].savedLabel = allNodes[nodeId].label;\n",
       "        allNodes[nodeId].label = undefined;\n",
       "      }\n",
       "    }\n",
       "\n",
       "    for (let i=0; i < selectedNodes.length; i++) {\n",
       "      allNodes[selectedNodes[i]].hidden = false;\n",
       "      if (allNodes[selectedNodes[i]].savedLabel !== undefined) {\n",
       "        allNodes[selectedNodes[i]].label = allNodes[selectedNodes[i]].savedLabel;\n",
       "        allNodes[selectedNodes[i]].savedLabel = undefined;\n",
       "      }\n",
       "    }\n",
       "\n",
       "  } else if (filterActive === true) {\n",
       "    // reset all nodes\n",
       "    for (let nodeId in allNodes) {\n",
       "      allNodes[nodeId].hidden = false;\n",
       "      if (allNodes[nodeId].savedLabel !== undefined) {\n",
       "        allNodes[nodeId].label = allNodes[nodeId].savedLabel;\n",
       "        allNodes[nodeId].savedLabel = undefined;\n",
       "      }\n",
       "    }\n",
       "    filterActive = false;\n",
       "  }\n",
       "\n",
       "  // transform the object into an array\n",
       "  var updateArray = [];\n",
       "  if (params.nodes.length > 0) {\n",
       "    for (let nodeId in allNodes) {\n",
       "      if (allNodes.hasOwnProperty(nodeId)) {\n",
       "        updateArray.push(allNodes[nodeId]);\n",
       "      }\n",
       "    }\n",
       "    nodes.update(updateArray);\n",
       "  } else {\n",
       "    for (let nodeId in allNodes) {\n",
       "      if (allNodes.hasOwnProperty(nodeId)) {\n",
       "        updateArray.push(allNodes[nodeId]);\n",
       "      }\n",
       "    }\n",
       "    nodes.update(updateArray);\n",
       "  }\n",
       "}\n",
       "\n",
       "function selectNode(nodes) {\n",
       "  network.selectNodes(nodes);\n",
       "  neighbourhoodHighlight({ nodes: nodes });\n",
       "  return nodes;\n",
       "}\n",
       "\n",
       "function selectNodes(nodes) {\n",
       "  network.selectNodes(nodes);\n",
       "  filterHighlight({nodes: nodes});\n",
       "  return nodes;\n",
       "}\n",
       "\n",
       "function highlightFilter(filter) {\n",
       "  let selectedNodes = []\n",
       "  let selectedProp = filter['property']\n",
       "  if (filter['item'] === 'node') {\n",
       "    let allNodes = nodes.get({ returnType: \"Object\" });\n",
       "    for (let nodeId in allNodes) {\n",
       "      if (allNodes[nodeId][selectedProp] && filter['value'].includes((allNodes[nodeId][selectedProp]).toString())) {\n",
       "        selectedNodes.push(nodeId)\n",
       "      }\n",
       "    }\n",
       "  }\n",
       "  else if (filter['item'] === 'edge'){\n",
       "    let allEdges = edges.get({returnType: 'object'});\n",
       "    // check if the selected property exists for selected edge and select the nodes connected to the edge\n",
       "    for (let edge in allEdges) {\n",
       "      if (allEdges[edge][selectedProp] && filter['value'].includes((allEdges[edge][selectedProp]).toString())) {\n",
       "        selectedNodes.push(allEdges[edge]['from'])\n",
       "        selectedNodes.push(allEdges[edge]['to'])\n",
       "      }\n",
       "    }\n",
       "  }\n",
       "  selectNodes(selectedNodes)\n",
       "}</script>\n",
       "            <link rel=\"stylesheet\" href=\"https://cdnjs.cloudflare.com/ajax/libs/vis-network/9.1.2/dist/dist/vis-network.min.css\" integrity=\"sha512-WgxfT5LWjfszlPHXRmBWHkV2eceiWTOBvrKCNbdgDYTHrT2AeLCGbF4sZlZw3UMN3WtL0tGUoIAKsu8mllg/XA==\" crossorigin=\"anonymous\" referrerpolicy=\"no-referrer\" />\n",
       "            <script src=\"https://cdnjs.cloudflare.com/ajax/libs/vis-network/9.1.2/dist/vis-network.min.js\" integrity=\"sha512-LnvoEWDFrqGHlHmDD2101OrLcbsfkrzoSpvtSQtxK3RMnRV0eOkhhBN2dXHKRrUU8p2DGRTk35n4O8nWSVe1mQ==\" crossorigin=\"anonymous\" referrerpolicy=\"no-referrer\"></script>\n",
       "            \n",
       "            \n",
       "            \n",
       "            \n",
       "            \n",
       "            \n",
       "\n",
       "        \n",
       "<center>\n",
       "<h1></h1>\n",
       "</center>\n",
       "\n",
       "<!-- <link rel=\"stylesheet\" href=\"../node_modules/vis/dist/vis.min.css\" type=\"text/css\" />\n",
       "<script type=\"text/javascript\" src=\"../node_modules/vis/dist/vis.js\"> </script>-->\n",
       "        <link\n",
       "          href=\"https://cdn.jsdelivr.net/npm/bootstrap@5.0.0-beta3/dist/css/bootstrap.min.css\"\n",
       "          rel=\"stylesheet\"\n",
       "          integrity=\"sha384-eOJMYsd53ii+scO/bJGFsiCZc+5NDVN2yr8+0RDqr0Ql0h+rP48ckxlpbzKgwra6\"\n",
       "          crossorigin=\"anonymous\"\n",
       "        />\n",
       "        <script\n",
       "          src=\"https://cdn.jsdelivr.net/npm/bootstrap@5.0.0-beta3/dist/js/bootstrap.bundle.min.js\"\n",
       "          integrity=\"sha384-JEW9xMcG8R+pH31jmWH6WWP0WintQrMb4s7ZOdauHnUtxwoG2vI5DkLtS3qm9Ekf\"\n",
       "          crossorigin=\"anonymous\"\n",
       "        ></script>\n",
       "\n",
       "\n",
       "        <center>\n",
       "          <h1></h1>\n",
       "        </center>\n",
       "        <style type=\"text/css\">\n",
       "\n",
       "             #mynetwork {\n",
       "                 width: 100%;\n",
       "                 height: 600px;\n",
       "                 background-color: #ffffff;\n",
       "                 border: 1px solid lightgray;\n",
       "                 position: relative;\n",
       "                 float: left;\n",
       "             }\n",
       "\n",
       "             \n",
       "\n",
       "             \n",
       "\n",
       "             \n",
       "        </style>\n",
       "    </head>\n",
       "\n",
       "\n",
       "    <body>\n",
       "        <div class=\"card\" style=\"width: 100%\">\n",
       "            \n",
       "            \n",
       "            <div id=\"mynetwork\" class=\"card-body\"></div>\n",
       "        </div>\n",
       "\n",
       "        \n",
       "        \n",
       "\n",
       "        <script type=\"text/javascript\">\n",
       "\n",
       "              // initialize global variables.\n",
       "              var edges;\n",
       "              var nodes;\n",
       "              var allNodes;\n",
       "              var allEdges;\n",
       "              var nodeColors;\n",
       "              var originalNodes;\n",
       "              var network;\n",
       "              var container;\n",
       "              var options, data;\n",
       "              var filter = {\n",
       "                  item : '',\n",
       "                  property : '',\n",
       "                  value : []\n",
       "              };\n",
       "\n",
       "              \n",
       "\n",
       "              \n",
       "\n",
       "              // This method is responsible for drawing the graph, returns the drawn network\n",
       "              function drawGraph() {\n",
       "                  var container = document.getElementById('mynetwork');\n",
       "\n",
       "                  \n",
       "\n",
       "                  // parsing and collecting nodes and edges from the python\n",
       "                  nodes = new vis.DataSet([{\"color\": \"#3498db\", \"id\": \"Alex\", \"label\": \"Alex\", \"shape\": \"dot\", \"size\": 10, \"title\": \"Person: Alex\"}, {\"color\": \"#2ecc71\", \"id\": \"Extraversion\", \"label\": \"Extraversion\", \"shape\": \"square\", \"size\": 10, \"title\": \"Trait: Extraversion\"}, {\"color\": \"#2ecc71\", \"id\": \"Conscientiousness\", \"label\": \"Conscientiousness\", \"shape\": \"square\", \"size\": 10, \"title\": \"Trait: Conscientiousness\"}, {\"color\": \"#3498db\", \"id\": \"Sarah\", \"label\": \"Sarah\", \"shape\": \"dot\", \"size\": 10, \"title\": \"Person: Sarah\"}, {\"color\": \"#2ecc71\", \"id\": \"Agreeableness\", \"label\": \"Agreeableness\", \"shape\": \"square\", \"size\": 10, \"title\": \"Trait: Agreeableness\"}]);\n",
       "                  edges = new vis.DataSet([{\"arrows\": \"to\", \"color\": \"#95a5a6\", \"from\": \"Alex\", \"label\": \"Score: -1.0\", \"title\": \"Evidence: He prefers to work alone and finds large meetings draining.\", \"to\": \"Extraversion\", \"width\": 1}, {\"arrows\": \"to\", \"color\": \"#95a5a6\", \"from\": \"Alex\", \"label\": \"Score: 1.0\", \"title\": \"Evidence: His code is always perfectly documented.\", \"to\": \"Conscientiousness\", \"width\": 1}, {\"arrows\": \"to\", \"color\": \"#95a5a6\", \"from\": \"Sarah\", \"label\": \"Score: 1.0\", \"title\": \"Evidence: She organizes all the team events, is incredibly energetic, and loves brainstorming in a group.\", \"to\": \"Extraversion\", \"width\": 1}, {\"arrows\": \"to\", \"color\": \"#95a5a6\", \"from\": \"Sarah\", \"label\": \"Score: -0.5\", \"title\": \"Evidence: Sarah\\u0027s desk is a bit of a mess, and she sometimes forgets to push her code.\", \"to\": \"Conscientiousness\", \"width\": 1}, {\"arrows\": \"to\", \"color\": \"#95a5a6\", \"from\": \"Sarah\", \"label\": \"Score: 1.0\", \"title\": \"Evidence: She is also known for being wonderfully kind and always the first to help a teammate who is stuck.\", \"to\": \"Agreeableness\", \"width\": 1}]);\n",
       "\n",
       "                  nodeColors = {};\n",
       "                  allNodes = nodes.get({ returnType: \"Object\" });\n",
       "                  for (nodeId in allNodes) {\n",
       "                    nodeColors[nodeId] = allNodes[nodeId].color;\n",
       "                  }\n",
       "                  allEdges = edges.get({ returnType: \"Object\" });\n",
       "                  // adding nodes and edges to the graph\n",
       "                  data = {nodes: nodes, edges: edges};\n",
       "\n",
       "                  var options = {\"physics\": {\"barnesHut\": {\"gravitationalConstant\": -15000, \"centralGravity\": 0.2}, \"minVelocity\": 0.75}, \"interaction\": {\"hover\": true}};\n",
       "\n",
       "                  \n",
       "\n",
       "\n",
       "                  \n",
       "\n",
       "                  network = new vis.Network(container, data, options);\n",
       "\n",
       "                  \n",
       "\n",
       "                  \n",
       "\n",
       "                  \n",
       "\n",
       "\n",
       "                  \n",
       "\n",
       "                  return network;\n",
       "\n",
       "              }\n",
       "              drawGraph();\n",
       "        </script>\n",
       "    </body>\n",
       "</html>"
      ],
      "text/plain": [
       "<IPython.core.display.HTML object>"
      ]
     },
     "metadata": {},
     "output_type": "display_data"
    }
   ],
   "source": [
    "from pyvis.network import Network\n",
    "from IPython.display import display, HTML\n",
    "\n",
    "# 1. Create a Pyvis network object\n",
    "net_personality = Network(notebook=True, width=\"100%\", height=\"600px\", cdn_resources='remote', directed=True)\n",
    "\n",
    "# 2. Load the NetworkX graph into the Pyvis network\n",
    "#    Pyvis will automatically read the 'label', 'title', 'color', and 'shape' attributes\n",
    "net_personality.from_nx(G_personality)\n",
    "\n",
    "# 3. (Optional) Add physics-based layout options\n",
    "net_personality.set_options(\"\"\"\n",
    "var options = {\n",
    "  \"physics\": {\n",
    "    \"barnesHut\": {\n",
    "      \"gravitationalConstant\": -15000,\n",
    "      \"centralGravity\": 0.2\n",
    "    },\n",
    "    \"minVelocity\": 0.75\n",
    "  },\n",
    "  \"interaction\": {\n",
    "    \"hover\": true\n",
    "  }\n",
    "}\n",
    "\"\"\")\n",
    "\n",
    "# 4. Save the network as an HTML file\n",
    "net_personality.save_graph(\"personality_graph.html\")\n",
    "\n",
    "print(\"✅ Interactive 'personality_graph.html' file generated.\")\n",
    "print(\"Displaying graph... (People are blue dots, traits are green squares)\")\n",
    "print(\"Hover over the edges to see the evidence!\")\n",
    "\n",
    "# 5. Display the HTML file in the Colab output cell\n",
    "display(HTML(\"personality_graph.html\"))"
   ]
  },
  {
   "cell_type": "markdown",
   "metadata": {
    "id": "O2Mw412HVEUR"
   },
   "source": [
    "### Reusable Function for Generate and Display Graph"
   ]
  },
  {
   "cell_type": "code",
   "execution_count": null,
   "metadata": {
    "colab": {
     "base_uri": "https://localhost:8080/"
    },
    "executionInfo": {
     "elapsed": 6,
     "status": "ok",
     "timestamp": 1761834011329,
     "user": {
      "displayName": "nibroos haryanto",
      "userId": "16812247201123840883"
     },
     "user_tz": -420
    },
    "id": "NZTrJMt0VGiC",
    "outputId": "d0a8db7d-0d17-4b6c-d37c-7e9fdc336107"
   },
   "outputs": [
    {
     "name": "stdout",
     "output_type": "stream",
     "text": [
      "✅ Reusable function 'generate_and_display_personality_graph' is defined and will save results.\n"
     ]
    }
   ],
   "source": [
    "from pyvis.network import Network\n",
    "from IPython.display import display, HTML\n",
    "import networkx as nx\n",
    "import traceback\n",
    "\n",
    "def generate_and_display_personality_graph(text_input: str):\n",
    "    \"\"\"\n",
    "    Takes a string of text, runs the full PERSONALITY KG extraction,\n",
    "    saves the result globally, and visualizes it.\n",
    "    \"\"\"\n",
    "    global global_llm_response   # <-- NEW: Tell function to use global var\n",
    "    global_llm_response = None  # <-- NEW: Clear old results\n",
    "\n",
    "    print(f\"Processing text: '{text_input[:100]}...'\")\n",
    "\n",
    "    try:\n",
    "        # --- Step 1: Run the PERSONALITY extraction chain ---\n",
    "        response = personality_chain.invoke({\"text\": text_input})\n",
    "        global_llm_response = response  # <-- NEW: Save the result globally\n",
    "\n",
    "        if not response.traits:\n",
    "            print(\"Extraction complete, but no personality traits were found.\")\n",
    "            return\n",
    "\n",
    "        print(f\"✅ Extracted {len(response.traits)} traits.\")\n",
    "\n",
    "        # (The rest of the function is the same as before)\n",
    "        for trait in response.traits:\n",
    "            print(f\"\\n  - Person:   {trait.person}\")\n",
    "            print(f\"    Trait:    {trait.trait} (Score: {trait.score})\")\n",
    "            print(f\"    Evidence: '{trait.evidence}'\")\n",
    "\n",
    "        # --- Step 2: Build the NetworkX graph (Personality Version) ---\n",
    "        G_personality = nx.DiGraph()\n",
    "        for trait_item in response.traits:\n",
    "            G_personality.add_node(\n",
    "                trait_item.person, label=trait_item.person,\n",
    "                title=f\"Person: {trait_item.person}\", shape=\"dot\", color=\"#3498db\"\n",
    "            )\n",
    "            G_personality.add_node(\n",
    "                trait_item.trait, label=trait_item.trait,\n",
    "                title=f\"Trait: {trait_item.trait}\", shape=\"square\", color=\"#2ecc71\"\n",
    "            )\n",
    "            edge_label = f\"Score: {trait_item.score}\"\n",
    "            edge_title = f\"Evidence: {trait_item.evidence}\"\n",
    "            G_personality.add_edge(\n",
    "                trait_item.person, trait_item.trait,\n",
    "                label=edge_label, title=edge_title, color=\"#95a5a6\"\n",
    "            )\n",
    "\n",
    "        print(f\"\\n✅ NetworkX graph built (Nodes: {G_personality.number_of_nodes()}, Edges: {G_personality.number_of_edges()}).\")\n",
    "\n",
    "        # --- Step 3: Build and display the Pyvis graph ---\n",
    "        net_personality = Network(notebook=True, width=\"100%\", height=\"600px\", cdn_resources='remote', directed=True)\n",
    "        net_personality.from_nx(G_personality)\n",
    "        net_personality.set_options(\"\"\"\n",
    "        var options = {\n",
    "          \"physics\": {\"barnesHut\": {\"gravitationalConstant\": -15000, \"centralGravity\": 0.2}, \"minVelocity\": 0.75},\n",
    "          \"interaction\": {\"hover\": true}\n",
    "        }\n",
    "        \"\"\")\n",
    "        net_personality.save_graph(\"personality_graph.html\")\n",
    "        print(\"✅ Interactive graph saved. Displaying now...\")\n",
    "        display(HTML(\"personality_graph.html\"))\n",
    "\n",
    "    except Exception as e:\n",
    "        print(f\"\\n❌ An error occurred during the process:\")\n",
    "        print(traceback.format_exc())\n",
    "\n",
    "# Run this cell once to define the updated function\n",
    "print(\"✅ Reusable function 'generate_and_display_personality_graph' is defined and will save results.\")"
   ]
  },
  {
   "cell_type": "markdown",
   "metadata": {
    "id": "sTo-gLSqVjnR"
   },
   "source": [
    "### Interactive Input Text Box"
   ]
  },
  {
   "cell_type": "code",
   "execution_count": null,
   "metadata": {
    "id": "-_oMBJ2WfqQe"
   },
   "outputs": [],
   "source": [
    "# This will store the output from the UI cell\n",
    "global_llm_response = None"
   ]
  },
  {
   "cell_type": "code",
   "execution_count": null,
   "metadata": {
    "colab": {
     "base_uri": "https://localhost:8080/",
     "height": 1000,
     "referenced_widgets": [
      "d88197225dfb41e283be6ae56a8894ac",
      "078b73a64e8642c3a01b7dc482aa384c",
      "0041cd8f75764112b6bdab7fb1c9ce2f",
      "15ffa881851b4206a61116e04ba7fcb8",
      "d4a93a503d634a54b34de744d1607cc7",
      "09251e11865a4f21b1f2a2a23feca5ca",
      "f3a8d4c90e9f4a1aa548f71f38950afb",
      "2839bd9e26c34f0e90b1fd3423ca65af"
     ]
    },
    "executionInfo": {
     "elapsed": 46,
     "status": "ok",
     "timestamp": 1761834029271,
     "user": {
      "displayName": "nibroos haryanto",
      "userId": "16812247201123840883"
     },
     "user_tz": -420
    },
    "id": "6bcG87rMVhFG",
    "outputId": "80843980-1d83-4171-ced3-1fd130738285"
   },
   "outputs": [
    {
     "name": "stdout",
     "output_type": "stream",
     "text": [
      "Enter your text below and click 'Generate Personality Graph':\n"
     ]
    },
    {
     "data": {
      "application/vnd.jupyter.widget-view+json": {
       "model_id": "d88197225dfb41e283be6ae56a8894ac",
       "version_major": 2,
       "version_minor": 0
      },
      "text/plain": [
       "Textarea(value='Paste your scenario text here...', description='Input Text:', layout=Layout(height='150px', wi…"
      ]
     },
     "metadata": {},
     "output_type": "display_data"
    },
    {
     "data": {
      "application/vnd.jupyter.widget-view+json": {
       "model_id": "15ffa881851b4206a61116e04ba7fcb8",
       "version_major": 2,
       "version_minor": 0
      },
      "text/plain": [
       "Button(button_style='success', description='Generate Personality Graph', icon='play', style=ButtonStyle())"
      ]
     },
     "metadata": {},
     "output_type": "display_data"
    },
    {
     "data": {
      "application/vnd.jupyter.widget-view+json": {
       "model_id": "f3a8d4c90e9f4a1aa548f71f38950afb",
       "version_major": 2,
       "version_minor": 0
      },
      "text/plain": [
       "Output()"
      ]
     },
     "metadata": {},
     "output_type": "display_data"
    }
   ],
   "source": [
    "import ipywidgets as widgets\n",
    "from IPython.display import display, clear_output\n",
    "\n",
    "# 1. Create the widgets\n",
    "text_area = widgets.Textarea(\n",
    "    value='Paste your scenario text here...',\n",
    "    placeholder='Type or paste your text',\n",
    "    description='Input Text:',\n",
    "    layout={'width': '100%', 'height': '150px'}\n",
    ")\n",
    "\n",
    "submit_button = widgets.Button(\n",
    "    description='Generate Personality Graph',\n",
    "    button_style='success',\n",
    "    icon='play'\n",
    ")\n",
    "\n",
    "# 2. Create an output area to display the graph\n",
    "output_area = widgets.Output()\n",
    "\n",
    "# 3. Define the function that runs when the button is clicked\n",
    "def on_button_clicked(b):\n",
    "    # Clear any previous graph from the output area\n",
    "    with output_area:\n",
    "        clear_output(wait=True)\n",
    "\n",
    "        # Get the text from the text area\n",
    "        text_input = text_area.value\n",
    "\n",
    "        if not text_input or text_input == 'Paste your scenario text here...':\n",
    "            print(\"Please enter some text into the box first.\")\n",
    "            return\n",
    "\n",
    "        # Call our NEW, correct main function\n",
    "        generate_and_display_personality_graph(text_input)\n",
    "\n",
    "# 4. Link the button click to the function\n",
    "submit_button.on_click(on_button_clicked)\n",
    "\n",
    "# 5. Display the UI\n",
    "print(\"Enter your text below and click 'Generate Personality Graph':\")\n",
    "display(text_area, submit_button, output_area)"
   ]
  },
  {
   "cell_type": "markdown",
   "metadata": {
    "id": "bAeEXk5afyiu"
   },
   "source": [
    "### Evaluation"
   ]
  },
  {
   "cell_type": "code",
   "execution_count": null,
   "metadata": {
    "colab": {
     "base_uri": "https://localhost:8080/"
    },
    "executionInfo": {
     "elapsed": 10,
     "status": "ok",
     "timestamp": 1761834226919,
     "user": {
      "displayName": "nibroos haryanto",
      "userId": "16812247201123840883"
     },
     "user_tz": -420
    },
    "id": "R-vki91Cfx9j",
    "outputId": "89124b42-bdd0-4170-82bf-4a0fa220a6d8"
   },
   "outputs": [
    {
     "name": "stdout",
     "output_type": "stream",
     "text": [
      "Ground Truth loaded with 13 expected facts.\n",
      "✅ Found response from UI with 9 traits. Converting for evaluation...\n",
      "Running evaluation...\n",
      "--- KG Evaluation Report ---\n",
      "Total Ground Truth Triples: 13\n",
      "Total Generated Triples:    9\n",
      "------------------------------\n",
      "True Positives (TP):  9\n",
      "False Positives (FP): 0\n",
      "False Negatives (FN): 4\n",
      "------------------------------\n",
      "\n",
      "✅ True Positives (Correctly found):\n",
      "   ('Ben', 'has_trait', 'Openness')\n",
      "   ('Ben', 'has_trait', 'Agreeableness')\n",
      "   ('Chloe', 'has_trait', 'Conscientiousness')\n",
      "   ('Chloe', 'has_trait', 'Agreeableness')\n",
      "   ('Ben', 'has_trait', 'Extraversion')\n",
      "   ('Alex', 'has_trait', 'Openness')\n",
      "   ('Alex', 'has_trait', 'Conscientiousness')\n",
      "   ('Alex', 'has_trait', 'Neuroticism')\n",
      "   ('Chloe', 'has_trait', 'Extraversion')\n",
      "\n",
      "❌ False Positives (Incorrectly generated):\n",
      "\n",
      "⚠️ False Negatives (Missed):\n",
      "   ('Chloe', 'has_trait', 'Openness')\n",
      "   ('Alex', 'has_trait', 'Extraversion')\n",
      "   ('Chloe', 'has_trait', 'Neuroticism')\n",
      "   ('Ben', 'has_trait', 'Conscientiousness')\n",
      "\n",
      "==============================\n",
      "Precision: 1.0000\n",
      "Recall:    0.6923\n",
      "F1-Score:  0.8182\n",
      "==============================\n"
     ]
    }
   ],
   "source": [
    "# --- 1. The Ground Truth You Provided ---\n",
    "ground_truth_triples = [\n",
    "    (\"Alex\", \"has_trait\", \"Conscientiousness\"),\n",
    "    (\"Alex\", \"has_trait\", \"Neuroticism\"),\n",
    "    (\"Alex\", \"has_trait\", \"Openness\"),\n",
    "    (\"Alex\", \"has_trait\", \"Extraversion\"),\n",
    "    (\"Ben\", \"has_trait\", \"Conscientiousness\"),\n",
    "    (\"Ben\", \"has_trait\", \"Extraversion\"),\n",
    "    (\"Ben\", \"has_trait\", \"Openness\"),\n",
    "    (\"Ben\", \"has_trait\", \"Agreeableness\"),\n",
    "    (\"Chloe\", \"has_trait\", \"Conscientiousness\"),\n",
    "    (\"Chloe\", \"has_trait\", \"Extraversion\"),\n",
    "    (\"Chloe\", \"has_trait\", \"Openness\"),\n",
    "    (\"Chloe\", \"has_trait\", \"Agreeableness\"),\n",
    "    (\"Chloe\", \"has_trait\", \"Neuroticism\"),\n",
    "]\n",
    "\n",
    "print(f\"Ground Truth loaded with {len(ground_truth_triples)} expected facts.\")\n",
    "\n",
    "# --- 2. Check if the UI has run and saved a response ---\n",
    "if 'global_llm_response' not in globals() or global_llm_response is None:\n",
    "    print(\"=\"*30)\n",
    "    print(\"❌ Error: No LLM response found.\")\n",
    "    print(\"Please run the 'Generate Personality Graph' button in the cell above first.\")\n",
    "else:\n",
    "    print(f\"✅ Found response from UI with {len(global_llm_response.traits)} traits. Converting for evaluation...\")\n",
    "\n",
    "    # --- 3. Convert the LLM response to the simple (S, P, O) format ---\n",
    "    generated_triples_for_eval = []\n",
    "    for trait_item in global_llm_response.traits:\n",
    "        # Create the simple (Person, \"has_trait\", Trait) tuple\n",
    "        simple_triple = (trait_item.person, \"has_trait\", trait_item.trait)\n",
    "        generated_triples_for_eval.append(simple_triple)\n",
    "\n",
    "    # --- 4. Run the Evaluation ---\n",
    "    # (This calls the 'evaluate_kg' function from Cell 21)\n",
    "    print(\"Running evaluation...\")\n",
    "    metrics = evaluate_kg(ground_truth_triples, generated_triples_for_eval)"
   ]
  },
  {
   "cell_type": "markdown",
   "metadata": {
    "id": "p5ZeD1OAclmJ"
   },
   "source": [
    "## Generated Data\n",
    "```\n",
    "Scenario: The Project Phoenix Crisis Meeting\n",
    "The project was two weeks behind schedule, and the team called an emergency meeting to figure out a new plan.\n",
    "\n",
    "Alex (Project Manager): Alex arrived 10 minutes early, his original project plan already updated with red ink, highlighting every missed deadline. He sat quietly at the head of the table, nervously tapping his pen and clearly distressed, worrying that this failure would reflect badly on his career. When the team started brainstorming, he sighed, \"I don't think we need 'creative' ideas right now. These new, unvetted tools are too risky. We just need to stick to the original plan and work harder.\" He listened intently to everyone but didn't say much else, just politely nodding, clearly preferring to be by himself to re-work the numbers.\n",
    "\n",
    "Ben (Lead Developer): Ben rushed in five minutes late, spilling a bit of coffee on his shirt. \"So sorry, everyone! My desk is an absolute black hole!\" he laughed, his voice filling the room and charming everyone instantly. When Alex explained the problem, Ben was completely unfazed. \"This is a fantastic opportunity!\" he clapped, jumping up to the whiteboard. \"I was just reading a wild article about a new generative AI framework. What if we scrap 80% of our current backend and rebuild it using that? It's creative, it's exciting!\" He then noticed Alex tensing up and immediately softened his tone. \"Or, just a thought. Alex, you look stressed. What can I do to help your part of the plan? I'm happy to help anyone who's stuck.\"\n",
    "\n",
    "Chloe (Lead Designer): Chloe confidently took charge, standing up and moving to the whiteboard next to Ben. \"Okay, let's stop the chaos,\" she said, her voice assertive. \"Ben, no new frameworks. That's a distraction and totally impractical. And Alex, your original plan is what got us into this mess. It's too rigid.\" She didn't mince words and seemed completely calm, focused only on the solution. \"I've already re-written the schedule. We'll work in focused 2-hour design sprints, no exceptions. I don't care if the solution is boring, I care that it works and ships on time. This is the only practical way forward.\" She ignored the team's groans and started writing the new tasks.\n",
    "```"
   ]
  },
  {
   "cell_type": "markdown",
   "metadata": {
    "id": "XpEEXzIrg0pm"
   },
   "source": [
    "### Justification\n",
    "The Project Phoenix Crisis Meeting scenario was intentionally designed to serve as synthetic data for evaluating the knowledge graph extraction system. The scenario simulates a realistic workplace crisis, a high-stress project meeting. Which naturally reveals personality traits, emotional responses, and interpersonal dynamics among individuals."
   ]
  },
  {
   "cell_type": "markdown",
   "metadata": {
    "id": "0s0VdEsS21Mg"
   },
   "source": [
    "## Download"
   ]
  },
  {
   "cell_type": "code",
   "execution_count": null,
   "metadata": {
    "id": "OG73snad22pC"
   },
   "outputs": [],
   "source": [
    "from google.colab import _message\n",
    "import nbformat\n",
    "\n",
    "# Get notebook data from Colab internal API\n",
    "nb_data = _message.blocking_request('get_ipynb')\n",
    "\n",
    "# Sometimes Colab wraps it like {'ipynb': {...}}, so unwrap if needed\n",
    "if \"ipynb\" in nb_data:\n",
    "    nb_data = nb_data[\"ipynb\"]\n",
    "\n",
    "# Double-check for essential keys\n",
    "if \"cells\" not in nb_data:\n",
    "    raise ValueError(\"❌ This Colab JSON doesn’t contain 'cells' — can’t export properly. Try File → Download .ipynb manually.\")\n",
    "\n",
    "# Remove any broken widget metadata safely\n",
    "nb_data[\"metadata\"].pop(\"widgets\", None)\n",
    "\n",
    "# Convert dict → NotebookNode\n",
    "nb_node = nbformat.from_dict(nb_data)\n",
    "\n",
    "# Save it as a valid Jupyter Notebook file\n",
    "path = \"/content/notebook.ipynb\"\n",
    "with open(path, \"w\") as f:\n",
    "    nbformat.write(nb_node, f)\n",
    "\n",
    "print(\"✅ Notebook successfully cleaned and saved at:\", path)\n"
   ]
  },
  {
   "cell_type": "code",
   "execution_count": 41,
   "metadata": {
    "colab": {
     "base_uri": "https://localhost:8080/",
     "height": 17
    },
    "executionInfo": {
     "elapsed": 19,
     "status": "ok",
     "timestamp": 1761840185272,
     "user": {
      "displayName": "nibroos haryanto",
      "userId": "16812247201123840883"
     },
     "user_tz": -420
    },
    "id": "7CQU8Rc226u3",
    "outputId": "d6c18155-b4c2-4362-adbc-4ba9d6376783"
   },
   "outputs": [
    {
     "data": {
      "application/javascript": [
       "\n",
       "    async function download(id, filename, size) {\n",
       "      if (!google.colab.kernel.accessAllowed) {\n",
       "        return;\n",
       "      }\n",
       "      const div = document.createElement('div');\n",
       "      const label = document.createElement('label');\n",
       "      label.textContent = `Downloading \"${filename}\": `;\n",
       "      div.appendChild(label);\n",
       "      const progress = document.createElement('progress');\n",
       "      progress.max = size;\n",
       "      div.appendChild(progress);\n",
       "      document.body.appendChild(div);\n",
       "\n",
       "      const buffers = [];\n",
       "      let downloaded = 0;\n",
       "\n",
       "      const channel = await google.colab.kernel.comms.open(id);\n",
       "      // Send a message to notify the kernel that we're ready.\n",
       "      channel.send({})\n",
       "\n",
       "      for await (const message of channel.messages) {\n",
       "        // Send a message to notify the kernel that we're ready.\n",
       "        channel.send({})\n",
       "        if (message.buffers) {\n",
       "          for (const buffer of message.buffers) {\n",
       "            buffers.push(buffer);\n",
       "            downloaded += buffer.byteLength;\n",
       "            progress.value = downloaded;\n",
       "          }\n",
       "        }\n",
       "      }\n",
       "      const blob = new Blob(buffers, {type: 'application/binary'});\n",
       "      const a = document.createElement('a');\n",
       "      a.href = window.URL.createObjectURL(blob);\n",
       "      a.download = filename;\n",
       "      div.appendChild(a);\n",
       "      a.click();\n",
       "      div.remove();\n",
       "    }\n",
       "  "
      ],
      "text/plain": [
       "<IPython.core.display.Javascript object>"
      ]
     },
     "metadata": {},
     "output_type": "display_data"
    },
    {
     "data": {
      "application/javascript": [
       "download(\"download_a305ed27-aef2-4188-bad1-641843e9e3e3\", \"notebook.ipynb\", 117821)"
      ],
      "text/plain": [
       "<IPython.core.display.Javascript object>"
      ]
     },
     "metadata": {},
     "output_type": "display_data"
    }
   ],
   "source": [
    "from google.colab import files\n",
    "files.download(\"/content/notebook.ipynb\")\n"
   ]
  }
 ],
 "metadata": {
  "colab": {
   "provenance": []
  },
  "kernelspec": {
   "display_name": "Python 3",
   "name": "python3"
  },
  "language_info": {
   "name": "python"
  }
 },
 "nbformat": 4,
 "nbformat_minor": 0
}
